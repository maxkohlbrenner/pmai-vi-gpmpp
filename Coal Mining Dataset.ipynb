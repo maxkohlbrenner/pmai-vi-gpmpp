{
 "cells": [
  {
   "cell_type": "code",
   "execution_count": 1,
   "metadata": {
    "collapsed": true
   },
   "outputs": [],
   "source": [
    "import tensorflow as tf\n",
    "import numpy as np\n",
    "import math\n",
    "na = np.newaxis\n",
    "import matplotlib.pyplot as plt\n",
    "from matplotlib import gridspec\n",
    "%matplotlib inline\n",
    "\n",
    "# import helper functions from utils.py:\n",
    "from utils import tf_tril_indices, load_lookup_table, table_lookup_op_parallel, get_scp_samples, train_parameters, evaluation, get_run_prefix, show_and_save_results"
   ]
  },
  {
   "cell_type": "code",
   "execution_count": 2,
   "metadata": {
    "collapsed": true
   },
   "outputs": [],
   "source": [
    "disasters_array = np.array([ 4, 5, 4, 0, 1, 4, 3, 4, 0, 6, 3, 3, 4, 0, 2, 6,\n",
    "                   3, 3, 5, 4, 5, 3, 1, 4, 4, 1, 5, 5, 3, 4, 2, 5,\n",
    "                   2, 2, 3, 4, 2, 1, 3, 2, 2, 1, 1, 1, 1, 3, 0, 0,\n",
    "                   1, 0, 1, 1, 0, 0, 3, 1, 0, 3, 2, 2, 0, 1, 1, 1,\n",
    "                   0, 1, 0, 1, 0, 0, 0, 2, 1, 0, 0, 0, 1, 1, 0, 2,\n",
    "                   3, 3, 1, 1, 2, 1, 1, 1, 1, 2, 4, 2, 0, 0, 1, 4,\n",
    "                   0, 0, 0, 1, 0, 0, 0, 0, 0, 1, 0, 0, 1, 0, 1])"
   ]
  },
  {
   "cell_type": "code",
   "execution_count": 3,
   "metadata": {
    "collapsed": false,
    "scrolled": false
   },
   "outputs": [],
   "source": [
    "data_samples = np.array([])\n",
    "tmp = [(i+np.linspace(0,1,disasters_array[i]+2)[1:-1]) for i in np.arange(disasters_array.shape[0])]\n",
    "\n",
    "for j in np.arange(len(tmp)):\n",
    "    data_samples = np.append(data_samples, tmp[j])"
   ]
  },
  {
   "cell_type": "code",
   "execution_count": 4,
   "metadata": {
    "collapsed": false,
    "scrolled": false
   },
   "outputs": [
    {
     "name": "stdout",
     "output_type": "stream",
     "text": [
      "Begin training\n",
      "Fixed inducing points on a grid\n",
      "Z.shape: (5, 1)\n"
     ]
    }
   ],
   "source": [
    "optimize_inducing_points = False\n",
    "train_hyperparameters    = True\n",
    "max_iterations           = 100\n",
    "learning_rate            = 0.00001\n",
    "gamma_init               = 1.\n",
    "alphas_init              = 100.\n",
    "ind_point_number         = 5\n",
    "\n",
    "log_dir    =  'logs/coal_mining'\n",
    "run_prefix = get_run_prefix(optimize_inducing_points, train_hyperparameters, ind_point_number, max_iterations, learning_rate, gamma_init, alphas_init)\n",
    "\n",
    "Tlims = np.array([[0, 120]])\n",
    "m_val, S_val, Kzz_inv, alphas_vals, Z_pos, gamma_val = train_parameters(np.expand_dims(data_samples,1), \n",
    "                                                           ind_point_number         = ind_point_number, \n",
    "                                                           Tlims                    = Tlims, \n",
    "                                                           optimize_inducing_points = optimize_inducing_points, \n",
    "                                                           train_hyperparameters    = train_hyperparameters, \n",
    "                                                           learning_rate            = learning_rate, \n",
    "                                                           max_iterations           = max_iterations, \n",
    "                                                           gamma_init               = gamma_init, \n",
    "                                                           alphas_init              = alphas_init, \n",
    "                                                           log_dir                  = log_dir, \n",
    "                                                           run_prefix               = run_prefix)"
   ]
  },
  {
   "cell_type": "code",
   "execution_count": 5,
   "metadata": {
    "collapsed": false
   },
   "outputs": [
    {
     "name": "stdout",
     "output_type": "stream",
     "text": [
      "Numeric results:\n",
      "kernel hyperparameters:\n",
      "-> alphas = [ 100.00076294]\n",
      "-> gamma  = 0.9818045496940613\n"
     ]
    },
    {
     "data": {
      "image/png": "[encoded data removed]",
      "text/plain": [
       "<matplotlib.figure.Figure at 0x7ff98cbb2390>"
      ]
     },
     "metadata": {},
     "output_type": "display_data"
    }
   ],
   "source": [
    "eval_points = np.expand_dims(np.linspace(0, 111, 100), axis=1)\n",
    "lambdas     = evaluation(m_val, S_val, Kzz_inv, alphas_vals, gamma_val, Z_pos, eval_points)\n",
    "\n",
    "show_and_save_results(alphas_init,\n",
    "                      gamma_init,\n",
    "                      ind_point_number,\n",
    "                      learning_rate,\n",
    "                      max_iterations,\n",
    "                      m_val, \n",
    "                      S_val, \n",
    "                      alphas_vals, \n",
    "                      gamma_val, \n",
    "                      Z_pos,\n",
    "                      eval_points, \n",
    "                      lambdas,\n",
    "                      log_dir + '/' + run_prefix + '/',\n",
    "                      data_samples=data_samples\n",
    "                     )"
   ]
  }
 ],
 "metadata": {
  "kernelspec": {
   "display_name": "Python 3",
   "language": "python",
   "name": "python3"
  },
  "language_info": {
   "codemirror_mode": {
    "name": "ipython",
    "version": 3
   },
   "file_extension": ".py",
   "mimetype": "text/x-python",
   "name": "python",
   "nbconvert_exporter": "python",
   "pygments_lexer": "ipython3",
   "version": "3.5.2"
  }
 },
 "nbformat": 4,
 "nbformat_minor": 2
}
