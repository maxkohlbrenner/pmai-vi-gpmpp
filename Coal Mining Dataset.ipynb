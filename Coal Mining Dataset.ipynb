{
 "cells": [
  {
   "cell_type": "code",
   "execution_count": 1,
   "metadata": {},
   "outputs": [],
   "source": [
    "import tensorflow as tf\n",
    "import numpy as np\n",
    "import math\n",
    "na = np.newaxis\n",
    "import matplotlib.pyplot as plt\n",
    "from matplotlib import gridspec\n",
    "%matplotlib inline\n",
    "\n",
    "# import helper functions from utils.py:\n",
    "from utils import tf_tril_indices, load_lookup_table, table_lookup_op_parallel, get_scp_samples, train_parameters, evaluation"
   ]
  },
  {
   "cell_type": "code",
   "execution_count": 2,
   "metadata": {},
   "outputs": [],
   "source": [
    "disasters_array = np.array([ 4, 5, 4, 0, 1, 4, 3, 4, 0, 6, 3, 3, 4, 0, 2, 6,\n",
    "                   3, 3, 5, 4, 5, 3, 1, 4, 4, 1, 5, 5, 3, 4, 2, 5,\n",
    "                   2, 2, 3, 4, 2, 1, 3, 2, 2, 1, 1, 1, 1, 3, 0, 0,\n",
    "                   1, 0, 1, 1, 0, 0, 3, 1, 0, 3, 2, 2, 0, 1, 1, 1,\n",
    "                   0, 1, 0, 1, 0, 0, 0, 2, 1, 0, 0, 0, 1, 1, 0, 2,\n",
    "                   3, 3, 1, 1, 2, 1, 1, 1, 1, 2, 4, 2, 0, 0, 1, 4,\n",
    "                   0, 0, 0, 1, 0, 0, 0, 0, 0, 1, 0, 0, 1, 0, 1])"
   ]
  },
  {
   "cell_type": "code",
   "execution_count": 5,
   "metadata": {
    "scrolled": false
   },
   "outputs": [
    {
     "name": "stdout",
     "output_type": "stream",
     "text": [
      "[   0.2           0.4           0.6           0.8           1.16666667\n",
      "    1.33333333    1.5           1.66666667    1.83333333    2.2           2.4\n",
      "    2.6           2.8           4.5           5.2           5.4           5.6\n",
      "    5.8           6.25          6.5           6.75          7.2           7.4\n",
      "    7.6           7.8           9.14285714    9.28571429    9.42857143\n",
      "    9.57142857    9.71428571    9.85714286   10.25         10.5          10.75\n",
      "   11.25         11.5          11.75         12.2          12.4          12.6\n",
      "   12.8          14.33333333   14.66666667   15.14285714   15.28571429\n",
      "   15.42857143   15.57142857   15.71428571   15.85714286   16.25         16.5\n",
      "   16.75         17.25         17.5          17.75         18.16666667\n",
      "   18.33333333   18.5          18.66666667   18.83333333   19.2          19.4\n",
      "   19.6          19.8          20.16666667   20.33333333   20.5\n",
      "   20.66666667   20.83333333   21.25         21.5          21.75         22.5\n",
      "   23.2          23.4          23.6          23.8          24.2          24.4\n",
      "   24.6          24.8          25.5          26.16666667   26.33333333\n",
      "   26.5          26.66666667   26.83333333   27.16666667   27.33333333\n",
      "   27.5          27.66666667   27.83333333   28.25         28.5          28.75\n",
      "   29.2          29.4          29.6          29.8          30.33333333\n",
      "   30.66666667   31.16666667   31.33333333   31.5          31.66666667\n",
      "   31.83333333   32.33333333   32.66666667   33.33333333   33.66666667\n",
      "   34.25         34.5          34.75         35.2          35.4          35.6\n",
      "   35.8          36.33333333   36.66666667   37.5          38.25         38.5\n",
      "   38.75         39.33333333   39.66666667   40.33333333   40.66666667\n",
      "   41.5          42.5          43.5          44.5          45.25         45.5\n",
      "   45.75         48.5          50.5          51.5          54.25         54.5\n",
      "   54.75         55.5          57.25         57.5          57.75\n",
      "   58.33333333   58.66666667   59.33333333   59.66666667   61.5          62.5\n",
      "   63.5          65.5          67.5          71.33333333   71.66666667\n",
      "   72.5          76.5          77.5          79.33333333   79.66666667\n",
      "   80.25         80.5          80.75         81.25         81.5          81.75\n",
      "   82.5          83.5          84.33333333   84.66666667   85.5          86.5\n",
      "   87.5          88.5          89.33333333   89.66666667   90.2          90.4\n",
      "   90.6          90.8          91.33333333   91.66666667   94.5          95.2\n",
      "   95.4          95.6          95.8          99.5         105.5         108.5\n",
      "  110.5       ]\n"
     ]
    }
   ],
   "source": [
    "data_samples = np.array([])\n",
    "tmp = [(i+np.linspace(0,1,disasters_array[i]+2)[1:-1]) for i in np.arange(disasters_array.shape[0])]\n",
    "\n",
    "for j in np.arange(len(tmp)):\n",
    "    data_samples = np.append(data_samples, tmp[j])\n",
    "\n",
    "print(data_samples)"
   ]
  },
  {
   "cell_type": "code",
   "execution_count": null,
   "metadata": {
    "scrolled": false
   },
   "outputs": [
    {
     "name": "stdout",
     "output_type": "stream",
     "text": [
      "Begin training\n"
     ]
    }
   ],
   "source": [
    "Tlims = np.array([[0, 120]])\n",
    "m_val,S_val,Kzz_inv,alphas_vals,Z,g_val = train_parameters(np.expand_dims(data_samples,1), 5, Tlims, optimize_inducing_points = True, train_hyperparameters = True, learning_rate=0.0001, max_iterations = 1000, gamma_init = 1., alphas_init = 1, log_dir=None, run_prefix=None)"
   ]
  },
  {
   "cell_type": "code",
   "execution_count": 7,
   "metadata": {},
   "outputs": [
    {
     "name": "stdout",
     "output_type": "stream",
     "text": [
      "[ 150.33314514] 12.5926 [ 3.09722376  1.83506489  1.25827658  1.58791113  1.02483153]\n"
     ]
    },
    {
     "data": {
      "image/png": "[encoded data removed]",
      "text/plain": [
       "<matplotlib.figure.Figure at 0x7fa14cba1da0>"
      ]
     },
     "metadata": {},
     "output_type": "display_data"
    }
   ],
   "source": [
    "eval_points = np.expand_dims(np.linspace(0, 111, 100),axis=1)\n",
    "\n",
    "print(alphas_vals, g_val,m_val)\n",
    "lam = evaluation(m_val,S_val,Kzz_inv,alphas_vals,g_val,Z,eval_points)\n",
    "plt.plot(eval_points,lam)\n",
    "plt.plot(data_samples,np.zeros(data_samples.shape[0]),'k|')\n",
    "plt.plot(Z,np.zeros(Z.shape[0])-5,'r|')\n",
    "plt.show()"
   ]
  },
  {
   "cell_type": "code",
   "execution_count": null,
   "metadata": {},
   "outputs": [],
   "source": []
  }
 ],
 "metadata": {
  "kernelspec": {
   "display_name": "Python 3",
   "language": "python",
   "name": "tensorflowpy3"
  },
  "language_info": {
   "codemirror_mode": {
    "name": "ipython",
    "version": 3
   },
   "file_extension": ".py",
   "mimetype": "text/x-python",
   "name": "python",
   "nbconvert_exporter": "python",
   "pygments_lexer": "ipython3",
   "version": "3.4.3"
  }
 },
 "nbformat": 4,
 "nbformat_minor": 2
}
