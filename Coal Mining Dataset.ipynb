{
 "cells": [
  {
   "cell_type": "code",
   "execution_count": 1,
   "metadata": {},
   "outputs": [],
   "source": [
    "import tensorflow as tf\n",
    "import numpy as np\n",
    "import math\n",
    "na = np.newaxis\n",
    "import matplotlib.pyplot as plt\n",
    "from matplotlib import gridspec\n",
    "%matplotlib inline\n",
    "\n",
    "# import helper functions from utils.py:\n",
    "from utils import tf_tril_indices, load_lookup_table, table_lookup_op_parallel, get_scp_samples, train_parameters, evaluation"
   ]
  },
  {
   "cell_type": "code",
   "execution_count": 2,
   "metadata": {},
   "outputs": [],
   "source": [
    "disasters_array = np.array([ 4, 5, 4, 0, 1, 4, 3, 4, 0, 6, 3, 3, 4, 0, 2, 6,\n",
    "                   3, 3, 5, 4, 5, 3, 1, 4, 4, 1, 5, 5, 3, 4, 2, 5,\n",
    "                   2, 2, 3, 4, 2, 1, 3, 2, 2, 1, 1, 1, 1, 3, 0, 0,\n",
    "                   1, 0, 1, 1, 0, 0, 3, 1, 0, 3, 2, 2, 0, 1, 1, 1,\n",
    "                   0, 1, 0, 1, 0, 0, 0, 2, 1, 0, 0, 0, 1, 1, 0, 2,\n",
    "                   3, 3, 1, 1, 2, 1, 1, 1, 1, 2, 4, 2, 0, 0, 1, 4,\n",
    "                   0, 0, 0, 1, 0, 0, 0, 0, 0, 1, 0, 0, 1, 0, 1])"
   ]
  },
  {
   "cell_type": "code",
   "execution_count": 5,
   "metadata": {
    "scrolled": false
   },
   "outputs": [],
   "source": [
    "data_samples = np.array([])\n",
    "tmp = [(i+np.linspace(0,1,disasters_array[i]+2)[1:-1]) for i in np.arange(disasters_array.shape[0])]\n",
    "\n",
    "for j in np.arange(len(tmp)):\n",
    "    data_samples = np.append(data_samples, tmp[j])\n"
   ]
  },
  {
   "cell_type": "code",
   "execution_count": 9,
   "metadata": {
    "scrolled": false
   },
   "outputs": [
    {
     "name": "stdout",
     "output_type": "stream",
     "text": [
      "Begin training\n",
      "Fixed inducing points on a grid\n",
      "Z.shape: (10, 1)\n"
     ]
    }
   ],
   "source": [
    "Tlims = np.array([[5, 110]])\n",
    "m_val,S_val,Kzz_inv,alphas_vals,Z,g_val = train_parameters(np.expand_dims(data_samples,1), 10, Tlims,\n",
    "                                                           optimize_inducing_points = False, \n",
    "                                                           train_hyperparameters = True, \n",
    "                                                           learning_rate=0.0001, \n",
    "                                                           max_iterations = 2000, \n",
    "                                                           gamma_init = 0.5, \n",
    "                                                           alphas_init = 100, \n",
    "                                                           log_dir=None, \n",
    "                                                           run_prefix=None)"
   ]
  },
  {
   "cell_type": "code",
   "execution_count": 8,
   "metadata": {},
   "outputs": [
    {
     "name": "stdout",
     "output_type": "stream",
     "text": [
      "[ 100.01226044] 0.822724 [ 2.32327604  1.65691543  1.94669831  1.22354555  1.00004923  0.91802049\n",
      "  0.79464823  1.38271964  0.69279677  0.57149529]\n"
     ]
    },
    {
     "data": {
      "image/png": "[encoded data removed]",
      "text/plain": [
       "<matplotlib.figure.Figure at 0x7f1c2219fef0>"
      ]
     },
     "metadata": {},
     "output_type": "display_data"
    }
   ],
   "source": [
    "eval_points = np.expand_dims(np.linspace(0, 111, 100),axis=1)\n",
    "\n",
    "print(alphas_vals, g_val,m_val)\n",
    "lam, lam_var = evaluation(m_val,S_val,Kzz_inv,alphas_vals,g_val,Z,eval_points)\n",
    "\n",
    "var1 = lam+lam_var*10\n",
    "var2 = lam-lam_var*10\n",
    "plt.plot(eval_points,lam)\n",
    "plt.plot(data_samples,np.zeros(data_samples.shape[0]),'k|')\n",
    "plt.fill_between(eval_points[:,0], var1, var2, color='grey', alpha='0.5')\n",
    "plt.plot(Z,np.zeros(Z.shape[0])-5,'r|')\n",
    "plt.show()"
   ]
  },
  {
   "cell_type": "code",
   "execution_count": null,
   "metadata": {},
   "outputs": [],
   "source": []
  }
 ],
 "metadata": {
  "kernelspec": {
   "display_name": "Python 3",
   "language": "python",
   "name": "tensorflowpy3"
  },
  "language_info": {
   "codemirror_mode": {
    "name": "ipython",
    "version": 3
   },
   "file_extension": ".py",
   "mimetype": "text/x-python",
   "name": "python",
   "nbconvert_exporter": "python",
   "pygments_lexer": "ipython3",
   "version": "3.4.3"
  }
 },
 "nbformat": 4,
 "nbformat_minor": 2
}
