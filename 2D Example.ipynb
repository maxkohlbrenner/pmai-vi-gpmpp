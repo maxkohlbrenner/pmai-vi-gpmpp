{
 "cells": [
  {
   "cell_type": "code",
   "execution_count": null,
   "metadata": {},
   "outputs": [],
   "source": [
    "import tensorflow as tf\n",
    "import numpy as np\n",
    "import math\n",
    "na = np.newaxis\n",
    "import matplotlib as mpl\n",
    "import matplotlib.pyplot as plt\n",
    "from matplotlib import gridspec\n",
    "\n",
    "# import helper functions from utils.py:\n",
    "from utils import build_2d_grid, train_parameters, evaluation, tf_tril_indices, load_lookup_table, table_lookup_op_parallel, get_scp_samples, build_graph, build_eval_graph, get_test_log_likelihood\n"
   ]
  },
  {
   "cell_type": "markdown",
   "metadata": {},
   "source": [
    "# Planning:\n",
    "\n",
    "- test on simple example and compare real / optimized distributions (define real dist-> sample data -> calc approx -> compare)\n",
    "- test on real dataset\n",
    "\n",
    "### BUGS:\n",
    "- urgent: logdet calculation gives Nans, current fix: replace the zeros by eye in the sparse add, does not solve it in any case however\n",
    "\n",
    "-> try: does it work with decomp and I stabilizer?\n",
    "\n",
    "- m and S values go to infinity if inducing_point_res >= 9\n",
    "\n",
    "\n",
    "### TODOS:\n",
    "- lower bound >0 ???\n",
    "- Check T region definition (currently limits of inducing points)\n",
    "- calculate and print lower bound for testset\n",
    "- improve 2d sampling function\n",
    "- optimize Lookup Table resolution (Max)"
   ]
  },
  {
   "cell_type": "markdown",
   "metadata": {},
   "source": [
    "# 2d example"
   ]
  },
  {
   "cell_type": "code",
   "execution_count": null,
   "metadata": {},
   "outputs": [],
   "source": [
    "from scipy.stats import multivariate_normal\n",
    "\n",
    "def double_blob(x):\n",
    "    blob_1 = multivariate_normal.pdf(x, mean = [3, 3], cov=[[1, 0], [0, 1]])\n",
    "    blob_2 = multivariate_normal.pdf(x, mean = [7, 7], cov=[[1, 0], [0, 1]])\n",
    "    return (blob_1 + blob_2) * 10\n",
    "\n",
    "def gram_matrix(xs):\n",
    "    return np.array([[ard_kernel(x1,x2) for x2 in xs] for x1 in xs])\n",
    "\n",
    "def ard_kernel(x1,x2):\n",
    "    R = 2\n",
    "    a = np.ones([R])*5\n",
    "    g = 0.7\n",
    "    return g * np.prod([np.exp(-1 * ((x1-x2) ** 2) / (2 * a[r])) for r in range(R)])\n",
    "\n",
    "def gaussian_process_rate_function(xs):\n",
    "    mean = [0 for x in xs]\n",
    "    gram = gram_matrix(xs)\n",
    "    result = np.random.multivariate_normal(mean, gram)**2\n",
    "\n",
    "    return result"
   ]
  },
  {
   "cell_type": "code",
   "execution_count": null,
   "metadata": {},
   "outputs": [],
   "source": [
    "upper_bound = 2\n",
    "Tlims = np.array([[0., 10.], [0., 10.]])\n",
    "res = 20\n",
    "\n",
    "#generate samples\n",
    "samples,test_samples, _,xx, yy,vals = get_scp_samples(gaussian_process_rate_function, Tlims, upper_bound,res)\n",
    "                                                    "
   ]
  },
  {
   "cell_type": "code",
   "execution_count": null,
   "metadata": {},
   "outputs": [],
   "source": [
    "#plot the rate_function over a grid\n",
    "plot_vals = vals.reshape(res,res)\n",
    "plt.pcolormesh(xx, yy, plot_vals.reshape(res,res))\n",
    "plt.colorbar()\n",
    "plt.show()\n",
    "\n",
    "print(np.max(plot_vals))"
   ]
  },
  {
   "cell_type": "code",
   "execution_count": null,
   "metadata": {
    "scrolled": true
   },
   "outputs": [],
   "source": [
    "# sampled data:\n",
    "plt.scatter(samples[:,0], samples[:,1], linewidth=0.1, alpha=.7)\n",
    "plt.scatter(test_samples[:,0], test_samples[:,1], linewidth=0.1, alpha=.7)\n",
    "\n",
    "print('Num_data_points: ', samples.shape[0])\n",
    "\n",
    "plt.show()"
   ]
  },
  {
   "cell_type": "markdown",
   "metadata": {},
   "source": [
    "# Variational Approximation"
   ]
  },
  {
   "cell_type": "markdown",
   "metadata": {},
   "source": [
    "### 2D Parameter Learning"
   ]
  },
  {
   "cell_type": "code",
   "execution_count": null,
   "metadata": {
    "scrolled": false
   },
   "outputs": [],
   "source": [
    "## ######## ##\n",
    "# PARAMETERS #\n",
    "## ######## ##\n",
    "\n",
    "tf.logging.set_verbosity(tf.logging.DEBUG)\n",
    "\n",
    "# general options\n",
    "train_hyperparameters    = True\n",
    "optimize_inducing_points = False\n",
    "ind_point_nums           = [8]\n",
    "\n",
    "# gradient descent optionss\n",
    "max_iterations = 1000\n",
    "learning_rate  = 0.001\n",
    "\n",
    "# hyperparameter initialization:\n",
    "alphas_init = [0.005,  0.005]\n",
    "gamma_init  = 0.7\n",
    "\n",
    "# tensorboard options:\n",
    "logdir = 'logs/2d_example'\n",
    "\n",
    "# build_evaluation_grid\n",
    "eval_grid = build_2d_grid(Tlims, res)\n",
    "\n",
    "for n_ind, i in enumerate(ind_point_nums): \n",
    "        \n",
    "    m_opt, S_opt, Kzz_inv_opt, alphas_opt, Z_opt,gamma_opt = train_parameters(samples, i, Tlims, \n",
    "                                                                              optimize_inducing_points=optimize_inducing_points, \n",
    "                                                                              train_hyperparameters=train_hyperparameters,\n",
    "                                                                              learning_rate=learning_rate,\n",
    "                                                                              max_iterations=max_iterations,\n",
    "                                                                              log_dir=logdir,\n",
    "                                                                              alphas_init=alphas_init,\n",
    "                                                                              gamma_init=gamma_init\n",
    "                                                                             ) "
   ]
  },
  {
   "cell_type": "code",
   "execution_count": null,
   "metadata": {},
   "outputs": [],
   "source": [
    "lam_vals,lam_var = evaluation(m_opt,S_opt,Kzz_inv_opt,alphas_opt,gamma_opt,Z_opt, eval_grid)\n",
    "\n",
    "#plots\n",
    "fig = plt.figure(figsize=(15, 5)) \n",
    "max_value = np.max([np.max(vals), np.max(lam_vals)])\n",
    "norm = mpl.colors.Normalize(vmin=0, vmax=max_value)\n",
    "\n",
    "print(\"ind point number: \",i)\n",
    "print(\"alphas: \",alphas_opt)\n",
    "print(\"gamma: \",gamma_opt)\n",
    "    \n",
    "xx, yy = np.meshgrid(np.linspace(Tlims[0,0], Tlims[0,1], res), np.linspace(Tlims[1,0], Tlims[1,1], res))\n",
    "    \n",
    "ax0 = plt.subplot(1,2,1)\n",
    "im = ax0.pcolormesh(xx, yy, lam_vals.reshape(res,res),  norm=norm)\n",
    "fig.colorbar(im, ax=ax0)\n",
    "ax0.set_title('prediciton with samples')\n",
    "ax0.scatter(samples[:,0], samples[:,1])\n",
    "plt.xlim(Tlims[0,0], Tlims[0,1])\n",
    "plt.ylim(Tlims[1,0], Tlims[1,1])\n",
    "\n",
    "ax1 = plt.subplot(1,2, 2)\n",
    "im1 = ax1.pcolormesh(xx, yy, plot_vals, norm=norm)\n",
    "fig.colorbar(im1, ax=ax1)\n",
    "ax1.set_title('groundtruth with inducing points')\n",
    "ax1.scatter(Z_opt[:, 0], Z_opt[:,1])\n",
    "plt.xlim(Tlims[0,0], Tlims[0,1])\n",
    "plt.ylim(Tlims[1,0], Tlims[1,1])\n",
    "#plt.savefig('results/' + run_prefix + '_result.png', dpi=300)\n",
    "plt.show()"
   ]
  },
  {
   "cell_type": "code",
   "execution_count": null,
   "metadata": {},
   "outputs": [],
   "source": [
    "def get_lower_test_bound(test_samples, m, S, Kzz_inv, a, g, Z):\n",
    "    lower_bound, Z_ph, X_test_ph, m_ph, S_ph,K_zz_inv_ph,a_ph,g_ph  = get_test_log_likelihood()\n",
    "\n",
    "    #run session\n",
    "    with tf.Session() as sess:\n",
    "        lower_bound_val, = sess.run([lower_bound], feed_dict={Z_ph:Z, X_test_ph:test_samples,K_zz_inv_ph: Kzz_inv,S_ph:S,m_ph:m,a_ph:a,g_ph:g})\n",
    "\n",
    "    return lower_bound_val\n"
   ]
  },
  {
   "cell_type": "code",
   "execution_count": null,
   "metadata": {},
   "outputs": [],
   "source": []
  }
 ],
 "metadata": {
  "kernelspec": {
   "display_name": "Python 3",
   "language": "python",
   "name": "tensorflowpy3"
  },
  "language_info": {
   "codemirror_mode": {
    "name": "ipython",
    "version": 3
   },
   "file_extension": ".py",
   "mimetype": "text/x-python",
   "name": "python",
   "nbconvert_exporter": "python",
   "pygments_lexer": "ipython3",
   "version": "3.4.3"
  }
 },
 "nbformat": 4,
 "nbformat_minor": 1
}
