{
 "cells": [
  {
   "cell_type": "markdown",
   "metadata": {},
   "source": [
    "## Sampling From a Given Sigmoidal Cox Process\n",
    "\n",
    "Use thinning procedure to sample from a sigmoidal cox process with gaussian intensity function as seen in \n",
    "\n",
    "- 'Adams, Ryan Prescott, Iain Murray, and David JC MacKay. \"Tractable nonparametric Bayesian inference in Poisson processes with Gaussian process intensities.\" Proceedings of the 26th Annual International Conference on Machine Learning. ACM, 2009.'"
   ]
  },
  {
   "cell_type": "code",
   "execution_count": 27,
   "metadata": {
    "collapsed": true
   },
   "outputs": [],
   "source": [
    "import numpy as np\n",
    "import matplotlib.pyplot as plt\n",
    "import gpflow"
   ]
  },
  {
   "cell_type": "code",
   "execution_count": 105,
   "metadata": {
    "collapsed": false
   },
   "outputs": [],
   "source": [
    "def logistic(X):\n",
    "    return 1. / (1. + np.exp(-X))\n",
    "\n",
    "def get_scp_samples(region_lims, upper_bound, mean, cov):\n",
    "    \n",
    "    # build GP with mean and cov \n",
    "    # TODO: gpflow\n",
    "    \n",
    "    # region lims: np.array of shape (D x 2), D dimension of input space\n",
    "    D = region_lims.shape[0]\n",
    "    \n",
    "    assert(np.alltrue(region_lims[:,0] <= region_lims[:,1])) # , 'First entries of regional limits need to be smaller or equal to the second entries')\n",
    "    \n",
    "    # 1. calc measure\n",
    "    V = np.prod(np.absolute(region_lims[:,0] - region_lims[:,1]), axis=0)\n",
    "    # 2. sample from poisson \n",
    "    J = np.random.poisson(V * upper_bound)\n",
    "    # 3. sample locations uniformly\n",
    "    low  = region_lims[:,0]\n",
    "    high = region_lims[:,1]\n",
    "    sample_candidates = np.random.uniform(low=low, high=high, size=(J, D))\n",
    "    # 4. sample function values using the GP\n",
    "    mean_vals = mean(sample_candidates)\n",
    "    cov_vals  = cov(sample_candidates)\n",
    "    \n",
    "    # 5. iterate over points and accept/reject\n",
    "    # sample from the GP function\n",
    "    vals = np.random.multivariate_normal(mean_vals, cov_vals)\n",
    "    R = np.random.uniform(size=J)\n",
    "    \n",
    "    accept = R < logistic(vals)\n",
    "    \n",
    "    return sample_candidates[accept], sample_candidates, R"
   ]
  },
  {
   "cell_type": "markdown",
   "metadata": {},
   "source": [
    "### a) 1d example"
   ]
  },
  {
   "cell_type": "code",
   "execution_count": 126,
   "metadata": {
    "collapsed": false
   },
   "outputs": [],
   "source": [
    "def ex_mean_fun(X):\n",
    "    return np.squeeze(np.sin(X))\n",
    "def ex_cov_fun(X):\n",
    "    N = X.shape[0]\n",
    "    return np.zeros((N, N))\n",
    "\n",
    "upper_bound = 3\n",
    "\n",
    "accepted_samples, all_samples, R = get_scp_samples(np.array([[0,10]]), upper_bound = upper_bound, mean=ex_mean_fun, cov=ex_cov_fun)"
   ]
  },
  {
   "cell_type": "code",
   "execution_count": 127,
   "metadata": {
    "collapsed": false,
    "scrolled": true
   },
   "outputs": [
    {
     "data": {
      "image/png": "[encoded data removed]",
      "text/plain": [
       "<matplotlib.figure.Figure at 0x7f75fa86bdd8>"
      ]
     },
     "metadata": {},
     "output_type": "display_data"
    }
   ],
   "source": [
    "X = np.linspace(0,10, 101)\n",
    "y = logistic(ex_mean_fun(X)) * upper_bound\n",
    "plt.plot(X, y)\n",
    "\n",
    "plt.plot(all_samples, R * upper_bound, 'x', mew=.4)\n",
    "\n",
    "plt.plot(accepted_samples, np.zeros(accepted_samples.shape[0]), 'k|', mew=5)\n",
    "plt.ylim(0, upper_bound)\n",
    "plt.show()"
   ]
  },
  {
   "cell_type": "markdown",
   "metadata": {
    "collapsed": true
   },
   "source": [
    "### b) 2d example"
   ]
  },
  {
   "cell_type": "code",
   "execution_count": null,
   "metadata": {
    "collapsed": true
   },
   "outputs": [],
   "source": [
    "# TODO: add similar example for 2d input space"
   ]
  }
 ],
 "metadata": {
  "kernelspec": {
   "display_name": "Python 3",
   "language": "python",
   "name": "python3"
  },
  "language_info": {
   "codemirror_mode": {
    "name": "ipython",
    "version": 3
   },
   "file_extension": ".py",
   "mimetype": "text/x-python",
   "name": "python",
   "nbconvert_exporter": "python",
   "pygments_lexer": "ipython3",
   "version": "3.5.2"
  }
 },
 "nbformat": 4,
 "nbformat_minor": 1
}
