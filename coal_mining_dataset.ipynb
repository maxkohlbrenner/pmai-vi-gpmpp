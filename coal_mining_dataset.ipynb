{
 "cells": [
  {
   "cell_type": "code",
   "execution_count": 1,
   "metadata": {
    "collapsed": true
   },
   "outputs": [],
   "source": [
    "import tensorflow as tf\n",
    "import numpy as np\n",
    "import math\n",
    "na = np.newaxis\n",
    "import matplotlib.pyplot as plt\n",
    "from matplotlib import gridspec\n",
    "%matplotlib inline\n",
    "\n",
    "# import helper functions from utils.py:\n",
    "from utils import tf_tril_indices, load_lookup_table, table_lookup_op_parallel, get_scp_samples, train_parameters, evaluation, get_run_prefix, show_and_save_results"
   ]
  },
  {
   "cell_type": "code",
   "execution_count": 2,
<<<<<<< HEAD
   "metadata": {
    "collapsed": true
   },
=======
   "metadata": {},
>>>>>>> 94ca72482ac64877d2dc14425939608f02e5363d
   "outputs": [],
   "source": [
    "disasters_array = np.array([ 4, 5, 4, 0, 1, 4, 3, 4, 0, 6, 3, 3, 4, 0, 2, 6,\n",
    "                   3, 3, 5, 4, 5, 3, 1, 4, 4, 1, 5, 5, 3, 4, 2, 5,\n",
    "                   2, 2, 3, 4, 2, 1, 3, 2, 2, 1, 1, 1, 1, 3, 0, 0,\n",
    "                   1, 0, 1, 1, 0, 0, 3, 1, 0, 3, 2, 2, 0, 1, 1, 1,\n",
    "                   0, 1, 0, 1, 0, 0, 0, 2, 1, 0, 0, 0, 1, 1, 0, 2,\n",
    "                   3, 3, 1, 1, 2, 1, 1, 1, 1, 2, 4, 2, 0, 0, 1, 4,\n",
    "                   0, 0, 0, 1, 0, 0, 0, 0, 0, 1, 0, 0, 1, 0, 1])"
   ]
  },
  {
   "cell_type": "code",
<<<<<<< HEAD
   "execution_count": 3,
=======
   "execution_count": 5,
>>>>>>> 94ca72482ac64877d2dc14425939608f02e5363d
   "metadata": {
    "collapsed": false,
    "scrolled": false
   },
   "outputs": [],
   "source": [
    "data_samples = np.array([])\n",
    "tmp = [(i+np.linspace(0,1,disasters_array[i]+2)[1:-1]) for i in np.arange(disasters_array.shape[0])]\n",
    "\n",
    "for j in np.arange(len(tmp)):\n",
    "    data_samples = np.append(data_samples, tmp[j])"
   ]
  },
  {
   "cell_type": "code",
   "execution_count": 4,
   "metadata": {
    "collapsed": false,
    "scrolled": false
   },
   "outputs": [
    {
     "name": "stdout",
     "output_type": "stream",
     "text": [
      "Begin training\n",
      "Fixed inducing points on a grid\n",
<<<<<<< HEAD
      "Z.shape: (5, 1)\n"
=======
      "Z.shape: (10, 1)\n"
>>>>>>> 94ca72482ac64877d2dc14425939608f02e5363d
     ]
    }
   ],
   "source": [
<<<<<<< HEAD
    "optimize_inducing_points = False\n",
    "train_hyperparameters    = True\n",
    "max_iterations           = 100\n",
    "learning_rate            = 0.00001\n",
    "gamma_init               = 1.\n",
    "alphas_init              = 100.\n",
    "ind_point_number         = 5\n",
    "\n",
    "log_dir    =  'logs/coal_mining'\n",
    "run_prefix = get_run_prefix(optimize_inducing_points, train_hyperparameters, ind_point_number, max_iterations, learning_rate, gamma_init, alphas_init)\n",
    "\n",
    "Tlims = np.array([[0, 120]])\n",
    "m_val, S_val, Kzz_inv, alphas_vals, Z_pos, gamma_val = train_parameters(np.expand_dims(data_samples,1), \n",
    "                                                           ind_point_number         = ind_point_number, \n",
    "                                                           Tlims                    = Tlims, \n",
    "                                                           optimize_inducing_points = optimize_inducing_points, \n",
    "                                                           train_hyperparameters    = train_hyperparameters, \n",
    "                                                           learning_rate            = learning_rate, \n",
    "                                                           max_iterations           = max_iterations, \n",
    "                                                           gamma_init               = gamma_init, \n",
    "                                                           alphas_init              = alphas_init, \n",
    "                                                           log_dir                  = log_dir, \n",
    "                                                           run_prefix               = run_prefix)"
=======
    "Tlims = np.array([[5, 110]])\n",
    "m_val,S_val,Kzz_inv,alphas_vals,Z,g_val = train_parameters(np.expand_dims(data_samples,1), 10, Tlims,\n",
    "                                                           optimize_inducing_points = False, \n",
    "                                                           train_hyperparameters = True, \n",
    "                                                           learning_rate=0.0001, \n",
    "                                                           max_iterations = 2000, \n",
    "                                                           gamma_init = 0.5, \n",
    "                                                           alphas_init = 100, \n",
    "                                                           log_dir=None, \n",
    "                                                           run_prefix=None)"
>>>>>>> 94ca72482ac64877d2dc14425939608f02e5363d
   ]
  },
  {
   "cell_type": "code",
<<<<<<< HEAD
   "execution_count": 5,
   "metadata": {
    "collapsed": false
   },
=======
   "execution_count": 8,
   "metadata": {},
>>>>>>> 94ca72482ac64877d2dc14425939608f02e5363d
   "outputs": [
    {
     "name": "stdout",
     "output_type": "stream",
     "text": [
<<<<<<< HEAD
      "Numeric results:\n",
      "kernel hyperparameters:\n",
      "-> alphas = [ 100.00076294]\n",
      "-> gamma  = 0.9818045496940613\n"
=======
      "[ 100.01226044] 0.822724 [ 2.32327604  1.65691543  1.94669831  1.22354555  1.00004923  0.91802049\n",
      "  0.79464823  1.38271964  0.69279677  0.57149529]\n"
>>>>>>> 94ca72482ac64877d2dc14425939608f02e5363d
     ]
    },
    {
     "data": {
<<<<<<< HEAD
      "image/png": "iVBORw0KGgoAAAANSUhEUgAAAmIAAAEzCAYAAACSbG8pAAAABHNCSVQICAgIfAhkiAAAAAlwSFlz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\n",
      "text/plain": [
       "<matplotlib.figure.Figure at 0x7ff98cbb2390>"
=======
      "image/png": "iVBORw0KGgoAAAANSUhEUgAAAXYAAAD8CAYAAABjAo9vAAAABHNCSVQICAgIfAhkiAAAAAlwSFlz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\n",
      "text/plain": [
       "<matplotlib.figure.Figure at 0x7f1c2219fef0>"
>>>>>>> 94ca72482ac64877d2dc14425939608f02e5363d
      ]
     },
     "metadata": {},
     "output_type": "display_data"
    }
   ],
   "source": [
    "eval_points = np.expand_dims(np.linspace(0, 111, 100), axis=1)\n",
    "lambdas     = evaluation(m_val, S_val, Kzz_inv, alphas_vals, gamma_val, Z_pos, eval_points)\n",
    "\n",
<<<<<<< HEAD
    "show_and_save_results(alphas_init,\n",
    "                      gamma_init,\n",
    "                      ind_point_number,\n",
    "                      learning_rate,\n",
    "                      max_iterations,\n",
    "                      m_val, \n",
    "                      S_val, \n",
    "                      alphas_vals, \n",
    "                      gamma_val, \n",
    "                      Z_pos,\n",
    "                      eval_points, \n",
    "                      lambdas,\n",
    "                      log_dir + '/' + run_prefix + '/',\n",
    "                      data_samples=data_samples\n",
    "                     )"
=======
    "print(alphas_vals, g_val,m_val)\n",
    "lam, lam_var = evaluation(m_val,S_val,Kzz_inv,alphas_vals,g_val,Z,eval_points)\n",
    "\n",
    "var1 = lam+lam_var*10\n",
    "var2 = lam-lam_var*10\n",
    "plt.plot(eval_points,lam)\n",
    "plt.plot(data_samples,np.zeros(data_samples.shape[0]),'k|')\n",
    "plt.fill_between(eval_points[:,0], var1, var2, color='grey', alpha='0.5')\n",
    "plt.plot(Z,np.zeros(Z.shape[0])-5,'r|')\n",
    "plt.show()"
>>>>>>> 94ca72482ac64877d2dc14425939608f02e5363d
   ]
  }
 ],
 "metadata": {
  "kernelspec": {
   "display_name": "Python 3",
   "language": "python",
   "name": "python3"
  },
  "language_info": {
   "codemirror_mode": {
    "name": "ipython",
    "version": 3
   },
   "file_extension": ".py",
   "mimetype": "text/x-python",
   "name": "python",
   "nbconvert_exporter": "python",
   "pygments_lexer": "ipython3",
   "version": "3.5.2"
  }
 },
 "nbformat": 4,
 "nbformat_minor": 2
}
